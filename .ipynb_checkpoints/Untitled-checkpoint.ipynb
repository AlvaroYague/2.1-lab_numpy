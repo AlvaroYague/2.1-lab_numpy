{
 "cells": [
  {
   "cell_type": "code",
   "execution_count": 1,
   "id": "d8fcffcc",
   "metadata": {},
   "outputs": [],
   "source": [
    "import numpy as np"
   ]
  },
  {
   "cell_type": "code",
   "execution_count": 3,
   "id": "2dcc174f",
   "metadata": {},
   "outputs": [],
   "source": [
    "array = np.random.random((2,3,5))"
   ]
  },
  {
   "cell_type": "code",
   "execution_count": 4,
   "id": "163d435d",
   "metadata": {},
   "outputs": [],
   "source": [
    "a = array"
   ]
  },
  {
   "cell_type": "code",
   "execution_count": 5,
   "id": "da1014a1",
   "metadata": {},
   "outputs": [
    {
     "name": "stdout",
     "output_type": "stream",
     "text": [
      "[[[0.10113337 0.76379036 0.46625463 0.91641801 0.85789689]\n",
      "  [0.02289269 0.7549167  0.37005737 0.06953318 0.75373222]\n",
      "  [0.21567591 0.48168814 0.1533644  0.94636119 0.83808552]]\n",
      "\n",
      " [[0.65093849 0.30476899 0.78574276 0.98708122 0.51911413]\n",
      "  [0.38922133 0.97422697 0.52444934 0.75200199 0.46251573]\n",
      "  [0.56037496 0.85831148 0.05538848 0.2215444  0.66808982]]]\n"
     ]
    }
   ],
   "source": [
    "print (a)"
   ]
  },
  {
   "cell_type": "code",
   "execution_count": 7,
   "id": "c09e469d",
   "metadata": {},
   "outputs": [],
   "source": [
    "b = np.ones((5,2,3))"
   ]
  },
  {
   "cell_type": "code",
   "execution_count": 8,
   "id": "5ad7a018",
   "metadata": {},
   "outputs": [
    {
     "name": "stdout",
     "output_type": "stream",
     "text": [
      "[[[1. 1. 1.]\n",
      "  [1. 1. 1.]]\n",
      "\n",
      " [[1. 1. 1.]\n",
      "  [1. 1. 1.]]\n",
      "\n",
      " [[1. 1. 1.]\n",
      "  [1. 1. 1.]]\n",
      "\n",
      " [[1. 1. 1.]\n",
      "  [1. 1. 1.]]\n",
      "\n",
      " [[1. 1. 1.]\n",
      "  [1. 1. 1.]]]\n"
     ]
    }
   ],
   "source": [
    "print (b)"
   ]
  },
  {
   "cell_type": "code",
   "execution_count": 12,
   "id": "518ac828",
   "metadata": {},
   "outputs": [
    {
     "data": {
      "text/plain": [
       "(2, 3, 5)"
      ]
     },
     "execution_count": 12,
     "metadata": {},
     "output_type": "execute_result"
    }
   ],
   "source": [
    "a.shape"
   ]
  },
  {
   "cell_type": "code",
   "execution_count": 13,
   "id": "a46b83c1",
   "metadata": {},
   "outputs": [
    {
     "data": {
      "text/plain": [
       "(5, 2, 3)"
      ]
     },
     "execution_count": 13,
     "metadata": {},
     "output_type": "execute_result"
    }
   ],
   "source": [
    "b.shape"
   ]
  },
  {
   "cell_type": "code",
   "execution_count": 14,
   "id": "70389d3d",
   "metadata": {},
   "outputs": [
    {
     "data": {
      "text/plain": [
       "False"
      ]
     },
     "execution_count": 14,
     "metadata": {},
     "output_type": "execute_result"
    }
   ],
   "source": [
    "a.shape == b.shape"
   ]
  },
  {
   "cell_type": "code",
   "execution_count": 15,
   "id": "c8fec699",
   "metadata": {},
   "outputs": [
    {
     "data": {
      "text/plain": [
       "30"
      ]
     },
     "execution_count": 15,
     "metadata": {},
     "output_type": "execute_result"
    }
   ],
   "source": [
    "a.size"
   ]
  },
  {
   "cell_type": "code",
   "execution_count": 16,
   "id": "a1a25a69",
   "metadata": {},
   "outputs": [
    {
     "data": {
      "text/plain": [
       "30"
      ]
     },
     "execution_count": 16,
     "metadata": {},
     "output_type": "execute_result"
    }
   ],
   "source": [
    "b.size\n"
   ]
  },
  {
   "cell_type": "code",
   "execution_count": 17,
   "id": "7182a75e",
   "metadata": {},
   "outputs": [
    {
     "data": {
      "text/plain": [
       "True"
      ]
     },
     "execution_count": 17,
     "metadata": {},
     "output_type": "execute_result"
    }
   ],
   "source": [
    "a.size == b.size\n"
   ]
  },
  {
   "cell_type": "code",
   "execution_count": 18,
   "id": "79f23716",
   "metadata": {},
   "outputs": [
    {
     "ename": "ValueError",
     "evalue": "operands could not be broadcast together with shapes (2,3,5) (5,2,3) ",
     "output_type": "error",
     "traceback": [
      "\u001b[1;31m---------------------------------------------------------------------------\u001b[0m",
      "\u001b[1;31mValueError\u001b[0m                                Traceback (most recent call last)",
      "Cell \u001b[1;32mIn[18], line 1\u001b[0m\n\u001b[1;32m----> 1\u001b[0m a \u001b[38;5;241m+\u001b[39m b\n",
      "\u001b[1;31mValueError\u001b[0m: operands could not be broadcast together with shapes (2,3,5) (5,2,3) "
     ]
    }
   ],
   "source": [
    "a + b\n",
    "\n",
    "# No pueden operarse porque tienen distinta forma"
   ]
  },
  {
   "cell_type": "code",
   "execution_count": 28,
   "id": "5e2c5c82",
   "metadata": {},
   "outputs": [],
   "source": [
    "c = np.transpose(b, (1,2,0))"
   ]
  },
  {
   "cell_type": "code",
   "execution_count": 29,
   "id": "6b066237",
   "metadata": {},
   "outputs": [
    {
     "name": "stdout",
     "output_type": "stream",
     "text": [
      "(2, 3, 5)\n"
     ]
    }
   ],
   "source": [
    "print (c.shape)"
   ]
  },
  {
   "cell_type": "code",
   "execution_count": 31,
   "id": "acf24b66",
   "metadata": {},
   "outputs": [],
   "source": [
    "d = a + c\n",
    "\n",
    "# Ahora pueden sumarse porque tienen la misma forma"
   ]
  },
  {
   "cell_type": "code",
   "execution_count": 32,
   "id": "777cfdb6",
   "metadata": {},
   "outputs": [
    {
     "name": "stdout",
     "output_type": "stream",
     "text": [
      "[[[1.10113337 1.76379036 1.46625463 1.91641801 1.85789689]\n",
      "  [1.02289269 1.7549167  1.37005737 1.06953318 1.75373222]\n",
      "  [1.21567591 1.48168814 1.1533644  1.94636119 1.83808552]]\n",
      "\n",
      " [[1.65093849 1.30476899 1.78574276 1.98708122 1.51911413]\n",
      "  [1.38922133 1.97422697 1.52444934 1.75200199 1.46251573]\n",
      "  [1.56037496 1.85831148 1.05538848 1.2215444  1.66808982]]]\n"
     ]
    }
   ],
   "source": [
    "print (d)"
   ]
  },
  {
   "cell_type": "code",
   "execution_count": 33,
   "id": "a1ecf7fa",
   "metadata": {},
   "outputs": [
    {
     "name": "stdout",
     "output_type": "stream",
     "text": [
      "[[[0.10113337 0.76379036 0.46625463 0.91641801 0.85789689]\n",
      "  [0.02289269 0.7549167  0.37005737 0.06953318 0.75373222]\n",
      "  [0.21567591 0.48168814 0.1533644  0.94636119 0.83808552]]\n",
      "\n",
      " [[0.65093849 0.30476899 0.78574276 0.98708122 0.51911413]\n",
      "  [0.38922133 0.97422697 0.52444934 0.75200199 0.46251573]\n",
      "  [0.56037496 0.85831148 0.05538848 0.2215444  0.66808982]]]\n"
     ]
    }
   ],
   "source": [
    "print (a)"
   ]
  },
  {
   "cell_type": "code",
   "execution_count": null,
   "id": "f0d59724",
   "metadata": {},
   "outputs": [],
   "source": [
    "# Al haber sumado los valores, los valores de 'd' son los mismos que 'a' -1"
   ]
  },
  {
   "cell_type": "code",
   "execution_count": 35,
   "id": "57e4d38e",
   "metadata": {},
   "outputs": [],
   "source": [
    "e = a*c"
   ]
  },
  {
   "cell_type": "code",
   "execution_count": 36,
   "id": "7dd24412",
   "metadata": {},
   "outputs": [
    {
     "data": {
      "text/plain": [
       "array([[[ True,  True,  True,  True,  True],\n",
       "        [ True,  True,  True,  True,  True],\n",
       "        [ True,  True,  True,  True,  True]],\n",
       "\n",
       "       [[ True,  True,  True,  True,  True],\n",
       "        [ True,  True,  True,  True,  True],\n",
       "        [ True,  True,  True,  True,  True]]])"
      ]
     },
     "execution_count": 36,
     "metadata": {},
     "output_type": "execute_result"
    }
   ],
   "source": [
    "e == a\n",
    "\n",
    "# Los valores son los mismos porque e tiene la misma estructura que a, ya que la modificamos anteriormente"
   ]
  },
  {
   "cell_type": "code",
   "execution_count": 37,
   "id": "8786a4b3",
   "metadata": {},
   "outputs": [],
   "source": [
    "d_max = np.max(d)"
   ]
  },
  {
   "cell_type": "code",
   "execution_count": 38,
   "id": "2bcf96fe",
   "metadata": {},
   "outputs": [],
   "source": [
    "d_min = np.min(d)"
   ]
  },
  {
   "cell_type": "code",
   "execution_count": 39,
   "id": "b71314fe",
   "metadata": {},
   "outputs": [],
   "source": [
    "d_mean = np.mean(d)"
   ]
  },
  {
   "cell_type": "code",
   "execution_count": 59,
   "id": "2951d1f0",
   "metadata": {},
   "outputs": [
    {
     "name": "stdout",
     "output_type": "stream",
     "text": [
      "[[[0. 0. 0. 0. 0.]\n",
      "  [0. 0. 0. 0. 0.]\n",
      "  [0. 0. 0. 0. 0.]]\n",
      "\n",
      " [[0. 0. 0. 0. 0.]\n",
      "  [0. 0. 0. 0. 0.]\n",
      "  [0. 0. 0. 0. 0.]]]\n"
     ]
    }
   ],
   "source": [
    "f = np.zeros ([2,3,5])\n",
    "print(f)"
   ]
  },
  {
   "cell_type": "code",
   "execution_count": 42,
   "id": "c53b1970",
   "metadata": {},
   "outputs": [
    {
     "name": "stdout",
     "output_type": "stream",
     "text": [
      "[[[0.10113337 0.76379036 0.46625463 0.91641801 0.85789689]\n",
      "  [0.02289269 0.7549167  0.37005737 0.06953318 0.75373222]\n",
      "  [0.21567591 0.48168814 0.1533644  0.94636119 0.83808552]]\n",
      "\n",
      " [[0.65093849 0.30476899 0.78574276 0.98708122 0.51911413]\n",
      "  [0.38922133 0.97422697 0.52444934 0.75200199 0.46251573]\n",
      "  [0.56037496 0.85831148 0.05538848 0.2215444  0.66808982]]]\n"
     ]
    }
   ],
   "source": [
    "print (f)"
   ]
  },
  {
   "cell_type": "code",
   "execution_count": 98,
   "id": "0c4163c5",
   "metadata": {},
   "outputs": [
    {
     "name": "stdout",
     "output_type": "stream",
     "text": [
      "[[[ 25.  50.  25.  50.  50.]\n",
      "  [  0.  50.  25.  25.  50.]\n",
      "  [ 25.  25.  25.  50.  50.]]\n",
      "\n",
      " [[ 50.  25.  50. 100.  25.]\n",
      "  [ 25.  50.  25.  50.  25.]\n",
      "  [ 50.  50.  25.  25.  50.]]]\n"
     ]
    }
   ],
   "source": [
    "for i in range(d.shape[0]):\n",
    "    for e in range(d.shape[1]):\n",
    "        for x in range(d.shape[2]):\n",
    "            v = d[i, e, x]\n",
    "            if d_min < v < d_mean:\n",
    "                    f[i, e, x] = 25\n",
    "            \n",
    "            elif d_mean < v < d_max:\n",
    "                    f[i, e, x] = 50\n",
    "        \n",
    "            elif v == d_min:\n",
    "                    f[i, e, x] = 0\n",
    "                    \n",
    "            elif v == d_max:\n",
    "                    f[i, e, x] = 100\n",
    "\n",
    "print(f)\n",
    "  \n",
    "             "
   ]
  },
  {
   "cell_type": "code",
   "execution_count": 100,
   "id": "854b140b",
   "metadata": {},
   "outputs": [
    {
     "name": "stdout",
     "output_type": "stream",
     "text": [
      "[[[1.10113337 1.76379036 1.46625463 1.91641801 1.85789689]\n",
      "  [1.02289269 1.7549167  1.37005737 1.06953318 1.75373222]\n",
      "  [1.21567591 1.48168814 1.1533644  1.94636119 1.83808552]]\n",
      "\n",
      " [[1.65093849 1.30476899 1.78574276 1.98708122 1.51911413]\n",
      "  [1.38922133 1.97422697 1.52444934 1.75200199 1.46251573]\n",
      "  [1.56037496 1.85831148 1.05538848 1.2215444  1.66808982]]]\n"
     ]
    }
   ],
   "source": [
    "print (d)"
   ]
  },
  {
   "cell_type": "code",
   "execution_count": null,
   "id": "bfb8af1f",
   "metadata": {},
   "outputs": [],
   "source": []
  }
 ],
 "metadata": {
  "kernelspec": {
   "display_name": "Python 3 (ipykernel)",
   "language": "python",
   "name": "python3"
  },
  "language_info": {
   "codemirror_mode": {
    "name": "ipython",
    "version": 3
   },
   "file_extension": ".py",
   "mimetype": "text/x-python",
   "name": "python",
   "nbconvert_exporter": "python",
   "pygments_lexer": "ipython3",
   "version": "3.11.5"
  }
 },
 "nbformat": 4,
 "nbformat_minor": 5
}
